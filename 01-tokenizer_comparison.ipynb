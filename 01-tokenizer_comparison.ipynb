{
 "cells": [
  {
   "cell_type": "markdown",
   "metadata": {},
   "source": [
    "# 형태소분석기 비교"
   ]
  },
  {
   "cell_type": "code",
   "execution_count": null,
   "metadata": {},
   "outputs": [],
   "source": [
    "from konlpy.tag import Kkma, Komoran, Okt\n",
    "from mecab import MeCab\n",
    "from konlp.kma.klt2023 import klt2023\n",
    "\n",
    "mec = MeCab()\n",
    "okt = Okt()\n",
    "kkm = Kkma()\n",
    "kom = Komoran()\n",
    "klt = klt2023()"
   ]
  },
  {
   "cell_type": "markdown",
   "metadata": {},
   "source": [
    "## 정확도 비교"
   ]
  },
  {
   "cell_type": "code",
   "execution_count": null,
   "metadata": {},
   "outputs": [
    {
     "name": "stdout",
     "output_type": "stream",
     "text": [
      "내 나이와 같은 영화를 지금 본 나는 감동적이다..하지만 훗날 다시보면대사하나하나 그 감정을완벽하게 이해할것만 같다...\n",
      "mec: ['내', '나이', '영화', '나', '감동', '훗날', '보면대', '사', '하나', '하나', '감정', '완벽', '이해', '것']\n",
      "kom: ['나이', '영화', '감동', '하지', '훗날', '다시', '보면', '대사', '하나하나', '감정', '을', '완벽', '이해', '것']\n",
      "kkm: ['내', '나이', '영화', '나', '감동적', '훗날', '대사', '대사하나하나', '하나하나', '감정', '완벽', '이해']\n",
      "okt: ['내', '나이', '영화', '지금', '나', '감동', '훗날', '다시', '사하나', '그', '감정', '이해']\n",
      "klt: ['나', '나이', '영화', '나', '감동적', '훗날', '다시보면대사하나', '감정을완벽', '이해할것']\n"
     ]
    }
   ],
   "source": [
    "txt = '내 나이와 같은 영화를 지금 본 나는 감동적이다..하지만 훗날 다시보면대사하나하나 그 감정을완벽하게 이해할것만 같다...'\n",
    "\n",
    "print(txt)\n",
    "print(f'mec: {mec.nouns(txt)}') #mecab\n",
    "print(f'kom: {kom.nouns(txt)}') #komoran\n",
    "print(f'kkm: {kkm.nouns(txt)}') #kkma\n",
    "print(f'okt: {okt.nouns(txt)}') #okt\n",
    "print(f'klt: {klt.nouns(txt)}') #klt"
   ]
  },
  {
   "cell_type": "code",
   "execution_count": null,
   "metadata": {},
   "outputs": [
    {
     "name": "stdout",
     "output_type": "stream",
     "text": [
      "이거어렸을때되게재밌게봄ㅋㅋ이정재 이범수ㅋㅋㅋㅋ연기쩜\n",
      "mec: ['이거', '때', '이정재', '이범수', '연기']\n",
      "kom: []\n",
      "kkm: ['이거', '때', '봄', '이정재', '이', '이범수', '범수', '연기']\n",
      "okt: ['거', '때', '봄', '이정재', '이범수', '연기', '쩜']\n",
      "klt: ['이거어렸을때되게재밌게봄', '이정', '이범수', '연기쩜']\n"
     ]
    }
   ],
   "source": [
    "txt = '이거어렸을때되게재밌게봄ㅋㅋ이정재 이범수ㅋㅋㅋㅋ연기쩜'\n",
    "\n",
    "print(txt)\n",
    "print(f'mec: {mec.nouns(txt)}') #mecab\n",
    "print(f'kom: {kom.nouns(txt)}') #komoran\n",
    "print(f'kkm: {kkm.nouns(txt)}') #kkma\n",
    "print(f'okt: {okt.nouns(txt)}') #okt\n",
    "print(f'klt: {klt.nouns(txt)}') #klt"
   ]
  },
  {
   "cell_type": "markdown",
   "metadata": {},
   "source": [
    "> Komoran은 띄어쓰기가 잘 되어있지 않은 문장에 대해서 형태소 분석 성능이 떨어짐"
   ]
  },
  {
   "cell_type": "markdown",
   "metadata": {},
   "source": [
    "## 속도 비교"
   ]
  },
  {
   "cell_type": "code",
   "execution_count": null,
   "metadata": {},
   "outputs": [
    {
     "data": {
      "text/html": [
       "<div>\n",
       "<style scoped>\n",
       "    .dataframe tbody tr th:only-of-type {\n",
       "        vertical-align: middle;\n",
       "    }\n",
       "\n",
       "    .dataframe tbody tr th {\n",
       "        vertical-align: top;\n",
       "    }\n",
       "\n",
       "    .dataframe thead th {\n",
       "        text-align: right;\n",
       "    }\n",
       "</style>\n",
       "<table border=\"1\" class=\"dataframe\">\n",
       "  <thead>\n",
       "    <tr style=\"text-align: right;\">\n",
       "      <th></th>\n",
       "      <th>id</th>\n",
       "      <th>document</th>\n",
       "      <th>label</th>\n",
       "    </tr>\n",
       "  </thead>\n",
       "  <tbody>\n",
       "    <tr>\n",
       "      <th>0</th>\n",
       "      <td>8112052</td>\n",
       "      <td>어릴때보고 지금다시봐도 재밌어요ㅋㅋ</td>\n",
       "      <td>1</td>\n",
       "    </tr>\n",
       "    <tr>\n",
       "      <th>1</th>\n",
       "      <td>8132799</td>\n",
       "      <td>디자인을 배우는 학생으로, 외국디자이너와 그들이 일군 전통을 통해 발전해가는 문화산...</td>\n",
       "      <td>1</td>\n",
       "    </tr>\n",
       "    <tr>\n",
       "      <th>2</th>\n",
       "      <td>4655635</td>\n",
       "      <td>폴리스스토리 시리즈는 1부터 뉴까지 버릴께 하나도 없음.. 최고.</td>\n",
       "      <td>1</td>\n",
       "    </tr>\n",
       "  </tbody>\n",
       "</table>\n",
       "</div>"
      ],
      "text/plain": [
       "        id                                           document  label\n",
       "0  8112052                                어릴때보고 지금다시봐도 재밌어요ㅋㅋ      1\n",
       "1  8132799  디자인을 배우는 학생으로, 외국디자이너와 그들이 일군 전통을 통해 발전해가는 문화산...      1\n",
       "2  4655635               폴리스스토리 시리즈는 1부터 뉴까지 버릴께 하나도 없음.. 최고.      1"
      ]
     },
     "metadata": {},
     "output_type": "display_data"
    }
   ],
   "source": [
    "import pandas as pd\n",
    "ratings = pd.read_csv('/home/kyuyeon/data/nsmc/ratings.txt', sep='\\t')\n",
    "ratings.head(3)"
   ]
  },
  {
   "cell_type": "code",
   "execution_count": null,
   "metadata": {},
   "outputs": [
    {
     "name": "stderr",
     "output_type": "stream",
     "text": [
      "100%|██████████| 10000/10000 [05:05<00:00, 32.71it/s] \n",
      "100%|██████████| 10000/10000 [00:06<00:00, 1618.11it/s]\n",
      "100%|██████████| 10000/10000 [00:24<00:00, 415.16it/s]\n",
      "100%|██████████| 10000/10000 [00:02<00:00, 4187.44it/s]\n",
      "100%|██████████| 10000/10000 [00:08<00:00, 1159.35it/s]\n"
     ]
    },
    {
     "data": {
      "image/png": "[encoded data removed]",
      "text/plain": [
       "<Figure size 1000x800 with 1 Axes>"
      ]
     },
     "metadata": {},
     "output_type": "display_data"
    }
   ],
   "source": [
    "import time\n",
    "from tqdm import tqdm\n",
    "\n",
    "def tagger_time(tagger, texts):\n",
    "  time_sum = 0\n",
    "\n",
    "  for sentence in tqdm(texts):\n",
    "    t1 = time.time()\n",
    "    try:\n",
    "      tagger.nouns(sentence)\n",
    "    except:\n",
    "      pass\n",
    "    t2 = time.time()\n",
    "\n",
    "    time_sum += (t2 - t1)\n",
    "\n",
    "  return time_sum\n",
    "texts = ratings['document'][:10000]\n",
    "time_list = []\n",
    "\n",
    "for tagger in [kkm, kom, okt, mec, klt]:\n",
    "  time_list.append(tagger_time(tagger, texts))\n",
    "import matplotlib.pyplot as plt\n",
    "import seaborn as sns\n",
    "sns.set_style('whitegrid')\n",
    "\n",
    "tagger = ['Kkma', 'Komoran', 'Okt', 'Mecab', 'KoNLTK']\n",
    "\n",
    "plt.figure(figsize=(10,8))\n",
    "plt.bar(tagger, time_list, color=(0.4,0.7,0.5))\n",
    "plt.title('Learning Time for 10000 reviews', fontsize=17)\n",
    "plt.xticks(fontsize=14)\n",
    "plt.ylabel('total seconds')\n",
    "plt.savefig('/home/kyuyeon/문서/kmu/23-1/bigdata-latest/movie/speed.png', dpi=300)"
   ]
  },
  {
   "cell_type": "markdown",
   "metadata": {},
   "source": [
    "> Kkma는 속도 측면에서 성능이 매우 떨어짐"
   ]
  },
  {
   "cell_type": "markdown",
   "metadata": {},
   "source": [
    "#### references\n",
    "\n",
    "https://soohee410.github.io/compare_tagger"
   ]
  },
  {
   "cell_type": "markdown",
   "metadata": {},
   "source": [
    "> 속도 측면에서 Mecab 우수  \n",
    "정규화 측면에서 Okt 우수  \n",
    "두 가지 형태소 분석기에 대해서 실험 진행  "
   ]
  }
 ],
 "metadata": {
  "language_info": {
   "name": "python"
  },
  "orig_nbformat": 4
 },
 "nbformat": 4,
 "nbformat_minor": 2
}
