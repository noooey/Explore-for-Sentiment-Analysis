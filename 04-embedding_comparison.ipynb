{
 "cells": [
  {
   "cell_type": "markdown",
   "metadata": {},
   "source": [
    "## 워드임베딩 모델 비교\n",
    "\n",
    "1. Word2Vec\n",
    "2. FastText"
   ]
  },
  {
   "cell_type": "markdown",
   "metadata": {},
   "source": [
    "### 1. Word2Vec\n",
    "a. Okt  \n",
    "b. Mec   "
   ]
  },
  {
   "cell_type": "code",
   "execution_count": null,
   "metadata": {},
   "outputs": [],
   "source": [
    "ratings_okt = '/home/kyuyeon/문서/kmu/23-1/bigdata-latest/movie/data/ratings-okt.csv'\n",
    "ratings_mec = '/home/kyuyeon/문서/kmu/23-1/bigdata-latest/movie/data/ratings-mec.csv'"
   ]
  },
  {
   "cell_type": "code",
   "execution_count": null,
   "metadata": {},
   "outputs": [],
   "source": [
    "from gensim.models import Word2Vec\n",
    "\n",
    "def word2vec(filepath):\n",
    "    df = pd.read_csv(filepath)\n",
    "    tokens = df['tokens'].apply(ast.literal_eval).tolist()\n",
    "    word2vec = Word2Vec(sentences = tokens, vector_size = 128, window=5, min_count = 3, workers = 4, sg = 1)\n",
    "    return word2vec"
   ]
  },
  {
   "cell_type": "code",
   "execution_count": null,
   "metadata": {},
   "outputs": [],
   "source": [
    "okt_word2vec = word2vec(ratings_okt)\n",
    "mec_word2vec = word2vec(ratings_mec)"
   ]
  },
  {
   "cell_type": "code",
   "execution_count": null,
   "metadata": {},
   "outputs": [
    {
     "name": "stdout",
     "output_type": "stream",
     "text": [
      "Shape of okt w2v: (20144, 128)\n",
      "[('연기자', 0.7863320708274841), ('영화배우', 0.7627941966056824), ('김혜수', 0.7543154954910278), ('양동근', 0.75252765417099), ('아역배우', 0.7506553530693054)]\n",
      "[('도조', 0.9827799797058105), ('턱턱', 0.9827117919921875), ('더맘', 0.9826177954673767), ('박정아', 0.9819898009300232), ('성무', 0.9803094267845154)]\n",
      "[('김영호', 0.8438836932182312), ('경력', 0.8416728973388672), ('김갑수', 0.8407999873161316), ('백성현', 0.8398641347885132), ('이성민', 0.8371452689170837)]\n",
      "[('핑', 0.7815195918083191), ('콧', 0.7763900756835938), ('피아노', 0.7758766412734985), ('글썽', 0.7712152600288391), ('주룩주룩', 0.754240095615387)]\n",
      "----------------------------------------------------------------------------\n",
      "Shape of mec w2v: (17659, 128)\n",
      "[('연기자', 0.7869983315467834), ('조연', 0.7770618200302124), ('차승원', 0.766180694103241), ('신인', 0.764148473739624), ('손예진', 0.763884961605072)]\n",
      "[('유다인', 0.9770801067352295), ('로버트패틴슨', 0.9751436114311218), ('제임스딘', 0.9744710326194763), ('제임스맥어보이', 0.9727902412414551), ('박수갈채', 0.972596287727356)]\n",
      "[('차승원', 0.9266838431358337), ('디카프리오', 0.9250388741493225), ('엄정화', 0.9240334630012512), ('손예진', 0.9220972657203674), ('임창정', 0.921913206577301)]\n",
      "[('콧물', 0.8171889781951904), ('방울', 0.8044776320457458), ('흘', 0.8038032054901123), ('물결', 0.7935484051704407), ('하이라이트', 0.7829230427742004)]\n",
      "----------------------------------------------------------------------------\n"
     ]
    }
   ],
   "source": [
    "for tagger, w2v in zip(['okt', 'mec'], [okt_word2vec, mec_word2vec]):\n",
    "    print(f'Shape of {tagger} w2v: {w2v.wv.vectors.shape}')\n",
    "    print(w2v.wv.most_similar((\"배우\"), topn=5))\n",
    "    print(w2v.wv.most_similar((\"최우식\"), topn=5))\n",
    "    print(w2v.wv.most_similar(positive=['황정민','최우식'], negative=['별로'], topn=5))\n",
    "    print(w2v.wv.most_similar(positive=['감동','마지막'], topn=5))\n",
    "    print(f'----------------------------------------------------------------------------')"
   ]
  },
  {
   "cell_type": "markdown",
   "metadata": {},
   "source": [
    "### 2. FastText\n",
    "a. Okt  \n",
    "b. Mec  "
   ]
  },
  {
   "cell_type": "code",
   "execution_count": null,
   "metadata": {},
   "outputs": [],
   "source": [
    "from gensim.models import FastText\n",
    "\n",
    "def fasttext(filepath):\n",
    "    df = pd.read_csv(filepath)\n",
    "    tokens = df['tokens'].apply(ast.literal_eval).tolist()\n",
    "    fasttext = FastText(sentences = tokens, vector_size = 128, window=5, min_count = 3, workers = 4, sg = 1)\n",
    "    return fasttext"
   ]
  },
  {
   "cell_type": "code",
   "execution_count": null,
   "metadata": {},
   "outputs": [],
   "source": [
    "okt_fasttext = fasttext(ratings_okt)\n",
    "mec_fasttext = fasttext(ratings_mec)"
   ]
  },
  {
   "cell_type": "code",
   "execution_count": null,
   "metadata": {},
   "outputs": [
    {
     "name": "stdout",
     "output_type": "stream",
     "text": [
      "Shape of okt fasttext: (20144, 128)\n",
      "[('배우진', 0.7985181212425232), ('단역배우', 0.7782069444656372), ('재연배우', 0.776151180267334), ('영화배우', 0.770680844783783), ('유명배우', 0.7667515873908997)]\n",
      "[('이기광', 0.9779018759727478), ('서영이', 0.9767885804176331), ('유미', 0.9742609262466431), ('류수영', 0.973111093044281), ('정아', 0.9729596376419067)]\n",
      "[('상우', 0.8578376770019531), ('백성현', 0.8541812300682068), ('손현주', 0.8525455594062805), ('김영호', 0.8518030643463135), ('정려원', 0.8491257429122925)]\n",
      "[('마지막모습', 0.788824200630188), ('마지막방송', 0.7867277264595032), ('핑', 0.7791186571121216), ('글썽', 0.7775189876556396), ('방울', 0.7577524781227112)]\n",
      "----------------------------------------------------------------------------\n",
      "Shape of mec fasttext: (17659, 128)\n",
      "[('파배우', 0.8624160885810852), ('남배우', 0.8228002190589905), ('명배우', 0.8010852932929993), ('영화배우', 0.7890864014625549), ('여배우', 0.7833238840103149)]\n",
      "[('대방', 0.9767491221427917), ('유다인', 0.9732888340950012), ('안소니퀸', 0.9732476472854614), ('김지미', 0.9730334281921387), ('김지호', 0.9729670882225037)]\n",
      "[('김혜수', 0.9066632390022278), ('차승원', 0.8999214172363281), ('안성기', 0.8973344564437866), ('엄정화', 0.894335150718689), ('신인', 0.8943062424659729)]\n",
      "[('흘', 0.847131073474884), ('콧물', 0.8218805193901062), ('방울', 0.8126205801963806), ('감동이', 0.8008409142494202), ('핑', 0.7956704497337341)]\n",
      "----------------------------------------------------------------------------\n"
     ]
    }
   ],
   "source": [
    "for tagger, ft in zip(['okt', 'mec'], [okt_fasttext, mec_fasttext]):\n",
    "    print(f'Shape of {tagger} fasttext: {ft.wv.vectors.shape}')\n",
    "    print(ft.wv.most_similar((\"배우\"), topn=5))\n",
    "    print(ft.wv.most_similar((\"최우식\"), topn=5))\n",
    "    print(ft.wv.most_similar(positive=['황정민','최우식'], negative=['별로'], topn=5))\n",
    "    print(ft.wv.most_similar(positive=['감동','마지막'], topn=5))\n",
    "    print(f'----------------------------------------------------------------------------')"
   ]
  }
 ],
 "metadata": {
  "language_info": {
   "name": "python"
  },
  "orig_nbformat": 4
 },
 "nbformat": 4,
 "nbformat_minor": 2
}
